{
 "cells": [
  {
   "cell_type": "code",
   "execution_count": 51,
   "id": "12feab90-0240-4a7b-91f6-e82b485d8bd9",
   "metadata": {},
   "outputs": [],
   "source": [
    "#Tokenize\n",
    "tokenizer = \"../mosesdecoder/scripts/tokenizer/tokenizer.perl\"\n",
    "#conversion: maj -> mini\n",
    "train_truecaser = \"../mosesdecoder/scripts/recaser/train-truecaser.perl\"\n",
    "truecaser = \"../mosesdecoder/scripts/recaser/truecase.perl\"\n",
    "#clean - save first 80 characters\n",
    "cleaner = \"../mosesdecoder/scripts/training/clean-corpus-n.perl\""
   ]
  },
  {
   "cell_type": "code",
   "execution_count": 35,
   "id": "c57faa65-7f3e-461a-85ca-685f9add1996",
   "metadata": {},
   "outputs": [
    {
     "name": "stdout",
     "output_type": "stream",
     "text": [
      "Tokenizer Version 1.1\n",
      "Language: en\n",
      "Number of threads: 1\n"
     ]
    }
   ],
   "source": [
    "# Europarl -  English training corpus\n",
    "!{tokenizer} -l en < ../data/raw/Europarl/Europarl_train_100k.en > ../data/clean/Europarl/Europarl_train_100k.tok.en"
   ]
  },
  {
   "cell_type": "code",
   "execution_count": 36,
   "id": "56ae3bf1-c95d-4a26-b659-bb00fae653f0",
   "metadata": {},
   "outputs": [
    {
     "name": "stdout",
     "output_type": "stream",
     "text": [
      "Tokenizer Version 1.1\n",
      "Language: fr\n",
      "Number of threads: 1\n"
     ]
    }
   ],
   "source": [
    "# Europarl -  French training corpus\n",
    "!{tokenizer} -l fr < ../data/raw/Europarl/Europarl_train_100k.fr > ../data/clean/Europarl/Europarl_train_100k.tok.fr"
   ]
  },
  {
   "cell_type": "code",
   "execution_count": 37,
   "id": "74429b78-f55a-437f-8f67-5e78f1a4a3a8",
   "metadata": {},
   "outputs": [
    {
     "name": "stdout",
     "output_type": "stream",
     "text": [
      "Tokenizer Version 1.1\n",
      "Language: en\n",
      "Number of threads: 1\n",
      "Tokenizer Version 1.1\n",
      "Language: fr\n",
      "Number of threads: 1\n"
     ]
    }
   ],
   "source": [
    "#  Europarl -  English validation corpus\n",
    "!{tokenizer} -l en <../data/raw/Europarl/Europarl_dev_3750.en > ../data/clean/Europarl/Europarl_dev_3750.tok.en\n",
    "\n",
    "#  Europarl -  French validation corpus\n",
    "!{tokenizer} -l fr < ../data/raw/Europarl/Europarl_dev_3750.fr > ../data/clean/Europarl/Europarl_dev_3750.tok.fr"
   ]
  },
  {
   "cell_type": "code",
   "execution_count": 38,
   "id": "285b2353-0622-435e-a968-f0f37caf324a",
   "metadata": {},
   "outputs": [
    {
     "name": "stdout",
     "output_type": "stream",
     "text": [
      "Tokenizer Version 1.1\n",
      "Language: en\n",
      "Number of threads: 1\n",
      "Tokenizer Version 1.1\n",
      "Language: fr\n",
      "Number of threads: 1\n"
     ]
    }
   ],
   "source": [
    "# Europarl -  English test corpus\n",
    "!{tokenizer} -l en < ../data/raw/Europarl/Europarl_test_500.en > ../data/clean/Europarl/Europarl_test_500.tok.en\n",
    "\n",
    "# Europarl - French test corpus\n",
    "!{tokenizer} -l fr < ../data/raw/Europarl/Europarl_test_500.fr > ../data/clean/Europarl/Europarl_test_500.tok.fr"
   ]
  },
  {
   "cell_type": "code",
   "execution_count": 39,
   "id": "6df1619b-2dba-4ef1-b1ee-e4044ac5dab4",
   "metadata": {},
   "outputs": [
    {
     "name": "stdout",
     "output_type": "stream",
     "text": [
      "Tokenizer Version 1.1\n",
      "Language: en\n",
      "Number of threads: 1\n",
      "Tokenizer Version 1.1\n",
      "Language: fr\n",
      "Number of threads: 1\n",
      "Tokenizer Version 1.1\n",
      "Language: en\n",
      "Number of threads: 1\n",
      "Tokenizer Version 1.1\n",
      "Language: fr\n",
      "Number of threads: 1\n"
     ]
    }
   ],
   "source": [
    "# Emea -  English training corpus\n",
    "!{tokenizer} -l en < ../data/raw/Emea/Emea_train_10k.en > ../data/clean/Emea/Emea_train_10k.tok.en\n",
    "\n",
    "# Emea -  French training corpus\n",
    "!{tokenizer} -l fr < ../data/raw/Emea/Emea_train_10k.fr > ../data/clean/Emea/Emea_train_10k.tok.fr\n",
    "\n",
    "# Emea -  English test corpus\n",
    "!{tokenizer} -l en < ../data/raw/Emea/Emea_test_500.en > ../data/clean/Emea/Emea_test_500.tok.en\n",
    "\n",
    "# Emea -  French test corpus\n",
    "!{tokenizer} -l fr < ../data/raw/Emea/Emea_test_500.fr > ../data/clean/Emea/Emea_test_500.tok.fr\n"
   ]
  },
  {
   "cell_type": "code",
   "execution_count": 41,
   "id": "aee5fbbf-83ec-487e-bae4-4701c06e6352",
   "metadata": {},
   "outputs": [],
   "source": [
    "#training phrase for both Europarl and Emea\n",
    "\n",
    "!{train_truecaser} --model ../data/raw/Europarl/truecase-model.en --corpus ../data/clean/Europarl/Europarl_train_100k.tok.en\n",
    "\n",
    "!{train_truecaser} --model ../data/raw/Europarl/truecase-model.fr --corpus ../data/clean/Europarl/Europarl_train_100k.tok.fr\n",
    "\n",
    "!{train_truecaser} --model ../data/raw/Emea/truecase-model.en --corpus ../data/clean/Emea/Emea_train_10k.tok.en\n",
    "\n",
    "!{train_truecaser} --model ../data/raw/Emea/truecase-model.fr --corpus ../data/clean/Emea/Emea_train_10k.tok.fr"
   ]
  },
  {
   "cell_type": "code",
   "execution_count": 43,
   "id": "a47f4f5c-7ab8-49cf-8412-dc556ebd521d",
   "metadata": {},
   "outputs": [],
   "source": [
    "#conversion maj-> min\n",
    "\n",
    "#Europral\n",
    "\n",
    "!{truecaser} --model ../data/raw/Europarl/truecase-model.en < ../data/clean/Europarl/Europarl_train_100k.tok.en > ../data/clean/Europarl/Europarl_train_100k.tok.clean.en\n",
    "\n",
    "!{truecaser} --model ../data/raw/Europarl/truecase-model.fr < ../data/clean/Europarl/Europarl_train_100k.tok.fr > ../data/clean/Europarl/Europarl_train_100k.tok.clean.fr\n",
    "\n",
    "!{truecaser} --model ../data/raw/Europarl/truecase-model.en < ../data/clean/Europarl/Europarl_dev_3750.tok.en > ../data/clean/Europarl/Europarl_dev_3750.tok.clean.en\n",
    "\n",
    "!{truecaser} --model ../data/raw/Europarl/truecase-model.fr < ../data/clean/Europarl/Europarl_dev_3750.tok.fr > ../data/clean/Europarl/Europarl_dev_3750.tok.clean.fr\n",
    "\n",
    "!{truecaser} --model ../data/raw/Europarl/truecase-model.en < ../data/clean/Europarl/Europarl_test_500.tok.en > ../data/clean/Europarl/Europarl_test_500.tok.clean.en\n",
    "\n",
    "!{truecaser} --model ../data/raw/Europarl/truecase-model.fr < ../data/clean/Europarl/Europarl_test_500.tok.fr > ../data/clean/Europarl/Europarl_test_500.tok.clean.fr"
   ]
  },
  {
   "cell_type": "code",
   "execution_count": 45,
   "id": "9a2da142-8389-4843-9fc5-ed5ce35dbeb1",
   "metadata": {},
   "outputs": [],
   "source": [
    "#Emea\n",
    "\n",
    "!{truecaser} --model ../data/raw/Emea/truecase-model.en < ../data/clean/Emea/Emea_train_10k.tok.en > ../data/clean/Emea/Emea_train_10k.tok.clean.en\n",
    "\n",
    "!{truecaser} --model ../data/raw/Emea/truecase-model.fr < ../data/clean/Emea/Emea_train_10k.tok.fr > ../data/clean/Emea/Emea_train_10k.tok.clean.fr\n",
    "\n",
    "!{truecaser} --model ../data/raw/Emea/truecase-model.en < ../data/clean/Emea/Emea_test_500.tok.en > ../data/clean/Emea/Emea_test_500.tok.clean.en\n",
    "\n",
    "!{truecaser} --model ../data/raw/Emea/truecase-model.fr < ../data/clean/Emea/Emea_test_500.tok.fr > ../data/clean/Emea/Emea_test_500.tok.clean.fr\n"
   ]
  },
  {
   "cell_type": "code",
   "execution_count": 53,
   "id": "20a16d6a-a6a4-44b8-b003-baeeac5331a1",
   "metadata": {},
   "outputs": [
    {
     "name": "stdout",
     "output_type": "stream",
     "text": [
      "clean-corpus.perl: processing ../data/clean/Europarl/Europarl_train_100k.tok.clean.fr & .en to ../data/clean/Europarl/Europarl_train_100k.tok.clean.final, cutoff 1-80, ratio 9\n",
      "..........(100000)\n",
      "Input sentences: 100000  Output sentences:  97785\n",
      "clean-corpus.perl: processing ../data/clean/Europarl/Europarl_dev_3750.tok.clean.fr & .en to ../data/clean/Europarl/Europarl_dev_3750.tok.clean.final, cutoff 1-80, ratio 9\n",
      "\n",
      "Input sentences: 3750  Output sentences:  3646\n",
      "clean-corpus.perl: processing ../data/clean/Europarl/Europarl_test_500.tok.clean.fr & .en to ../data/clean/Europarl/Europarl_test_500.tok.clean.final, cutoff 1-80, ratio 9\n",
      "\n",
      "Input sentences: 500  Output sentences:  488\n",
      "clean-corpus.perl: processing ../data/clean/Emea/Emea_train_10k.tok.clean.fr & .en to ../data/clean/Emea/Emea_train_10k.tok.clean.final, cutoff 1-80, ratio 9\n",
      ".\n",
      "Input sentences: 10000  Output sentences:  9881\n",
      "clean-corpus.perl: processing ../data/clean/Emea/Emea_test_500.tok.clean.fr & .en to ../data/clean/Emea/Emea_test_500.tok.clean.final, cutoff 1-80, ratio 9\n",
      "\n",
      "Input sentences: 500  Output sentences:  500\n"
     ]
    }
   ],
   "source": [
    "#cleaning - 80 characters\n",
    "\n",
    "#Europarl\n",
    "\n",
    "!{cleaner}  ../data/clean/Europarl/Europarl_train_100k.tok.clean fr en ../data/clean/Europarl/Europarl_train_100k.tok.clean.final 1 80\n",
    "\n",
    "!{cleaner}  ../data/clean/Europarl/Europarl_dev_3750.tok.clean fr en ../data/clean/Europarl/Europarl_dev_3750.tok.clean.final 1 80\n",
    "\n",
    "!{cleaner}  ../data/clean/Europarl/Europarl_test_500.tok.clean fr en ../data/clean/Europarl/Europarl_test_500.tok.clean.final 1 80\n",
    "\n",
    "#Emea\n",
    "\n",
    "!{cleaner}  ../data/clean/Emea/Emea_train_10k.tok.clean fr en ../data/clean/Emea/Emea_train_10k.tok.clean.final 1 80\n",
    "\n",
    "!{cleaner}  ../data/clean/Emea/Emea_test_500.tok.clean fr en ../data/clean/Emea/Emea_test_500.tok.clean.final 1 80"
   ]
  }
 ],
 "metadata": {
  "kernelspec": {
   "display_name": "Python 3 (ipykernel)",
   "language": "python",
   "name": "python3"
  },
  "language_info": {
   "codemirror_mode": {
    "name": "ipython",
    "version": 3
   },
   "file_extension": ".py",
   "mimetype": "text/x-python",
   "name": "python",
   "nbconvert_exporter": "python",
   "pygments_lexer": "ipython3",
   "version": "3.11.4"
  }
 },
 "nbformat": 4,
 "nbformat_minor": 5
}
