{
 "cells": [
  {
   "cell_type": "code",
   "execution_count": 1,
   "metadata": {},
   "outputs": [],
   "source": [
    "import nltk\n",
    "from nltk.stem import WordNetLemmatizer\n",
    "from nltk import pos_tag\n",
    "from nltk.corpus import wordnet\n",
    "from french_lefff_lemmatizer.french_lefff_lemmatizer import FrenchLefffLemmatizer\n",
    "import spacy\n",
    "\n",
    "# nlp_fr = spacy.load('fr_core_news_sm')\n",
    "# nltk.download('wordnet')\n",
    "# nltk.download('punkt')\n",
    "# nltk.download('averaged_perceptron_tagger')\n",
    "# nltk.download('omw-1.4') \n",
    "\n",
    "lemmatizer_en = WordNetLemmatizer()\n",
    "lemmatizer_fr = FrenchLefffLemmatizer()\n"
   ]
  },
  {
   "cell_type": "code",
   "execution_count": 2,
   "metadata": {},
   "outputs": [],
   "source": [
    "def get_wordnet_pos(treebank_tag):\n",
    "    if treebank_tag.startswith('J'):\n",
    "        return wordnet.ADJ\n",
    "    elif treebank_tag.startswith('V'):\n",
    "        return wordnet.VERB\n",
    "    elif treebank_tag.startswith('N'):\n",
    "        return wordnet.NOUN\n",
    "    elif treebank_tag.startswith('R'):\n",
    "        return wordnet.ADV\n",
    "    else:\n",
    "        return None\n",
    "\n",
    "def lemmatize_sentence_en(sentence):\n",
    "    words = nltk.word_tokenize(sentence)\n",
    "    tagged_words = pos_tag(words)\n",
    "    lemmatized_words = []\n",
    "    for word, tag in tagged_words:\n",
    "        wn_tag = get_wordnet_pos(tag)\n",
    "        if wn_tag:\n",
    "            lemmatized_word = lemmatizer_en.lemmatize(word, pos=wn_tag)\n",
    "        else:\n",
    "            lemmatized_word = lemmatizer_en.lemmatize(word)\n",
    "        lemmatized_words.append(lemmatized_word)\n",
    "    return ' '.join(lemmatized_words)\n",
    "\n",
    "def lemmatize_sentence_fr(sentence):\n",
    "    doc = nlp_fr(sentence)\n",
    "    return ' '.join([token.lemma_ for token in doc])\n"
   ]
  },
  {
   "cell_type": "code",
   "execution_count": 3,
   "metadata": {},
   "outputs": [],
   "source": [
    "def lemmatize_file(file_path, language):\n",
    "    base_name = file_path.rsplit('.', 1)[0]\n",
    "    extension = file_path.rsplit('.', 1)[1]\n",
    "    output_path = f\"{base_name}.lemma.{extension}\"\n",
    "    \n",
    "    try:\n",
    "        with open(file_path, 'r', encoding='utf-8') as file, \\\n",
    "             open(output_path, 'w', encoding='utf-8') as outfile:\n",
    "            for line in file:\n",
    "                clean_line = line.strip()\n",
    "                if clean_line:\n",
    "                    if language == 'english':\n",
    "                        lemmatized_line = lemmatize_sentence_en(clean_line)\n",
    "                    elif language == 'french':\n",
    "                        lemmatized_line = lemmatize_sentence_fr(clean_line)\n",
    "                    outfile.write(lemmatized_line + '\\n')  \n",
    "        print(f\"Lemmatized file saved as: {output_path}\")\n",
    "    except Exception as e:\n",
    "        print(f\"Failed to process {file_path}: {e}\")"
   ]
  },
  {
   "cell_type": "code",
   "execution_count": 4,
   "metadata": {},
   "outputs": [
    {
     "name": "stdout",
     "output_type": "stream",
     "text": [
      "Lemmatized file saved as: ../data/clean/Emea/Emea_test_500.tok.true.clean.lemma.en\n",
      "Lemmatized file saved as: ../data/clean/Emea/Emea_test_500.tok.true.clean.lemma.fr\n",
      "Lemmatized file saved as: ../data/clean/Emea/Emea_train_10k.tok.true.clean.lemma.en\n",
      "Lemmatized file saved as: ../data/clean/Emea/Emea_train_10k.tok.true.clean.lemma.fr\n",
      "Lemmatized file saved as: ../data/clean/Europarl/Europarl_dev_3750.tok.true.clean.lemma.en\n",
      "Lemmatized file saved as: ../data/clean/Europarl/Europarl_dev_3750.tok.true.clean.lemma.fr\n",
      "Lemmatized file saved as: ../data/clean/Europarl/Europarl_test_500.tok.true.clean.lemma.en\n",
      "Lemmatized file saved as: ../data/clean/Europarl/Europarl_test_500.tok.true.clean.lemma.fr\n",
      "Lemmatized file saved as: ../data/clean/Europarl/Europarl_train_100k.tok.true.clean.lemma.en\n",
      "Lemmatized file saved as: ../data/clean/Europarl/Europarl_train_100k.tok.true.clean.lemma.fr\n"
     ]
    }
   ],
   "source": [
    "files_to_process = [\n",
    "    {'path': '../data/clean/Emea/Emea_test_500.tok.true.clean.en', 'language': 'english'},\n",
    "    {'path': '../data/clean/Emea/Emea_test_500.tok.true.clean.fr', 'language': 'french'},\n",
    "    {'path': '../data/clean/Emea/Emea_train_10k.tok.true.clean.en', 'language': 'english'},\n",
    "    {'path': '../data/clean/Emea/Emea_train_10k.tok.true.clean.fr', 'language': 'french'},\n",
    "    {'path': '../data/clean/Europarl/Europarl_dev_3750.tok.true.clean.en', 'language': 'english'},\n",
    "    {'path': '../data/clean/Europarl/Europarl_dev_3750.tok.true.clean.fr', 'language': 'french'},\n",
    "    {'path': '../data/clean/Europarl/Europarl_test_500.tok.true.clean.en', 'language': 'english'},\n",
    "    {'path': '../data/clean/Europarl/Europarl_test_500.tok.true.clean.fr', 'language': 'french'},\n",
    "    {'path': '../data/clean/Europarl/Europarl_train_100k.tok.true.clean.en', 'language': 'english'},\n",
    "    {'path': '../data/clean/Europarl/Europarl_train_100k.tok.true.clean.fr', 'language': 'french'},\n",
    "]\n",
    "\n",
    "for file_info in files_to_process:\n",
    "    lemmatize_file(file_info['path'], file_info['language'])\n"
   ]
  }
 ],
 "metadata": {
  "kernelspec": {
   "display_name": "TAA",
   "language": "python",
   "name": "python3"
  },
  "language_info": {
   "codemirror_mode": {
    "name": "ipython",
    "version": 3
   },
   "file_extension": ".py",
   "mimetype": "text/x-python",
   "name": "python",
   "nbconvert_exporter": "python",
   "pygments_lexer": "ipython3",
   "version": "3.8.19"
  }
 },
 "nbformat": 4,
 "nbformat_minor": 2
}
