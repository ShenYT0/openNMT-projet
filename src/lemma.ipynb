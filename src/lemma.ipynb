{
 "cells": [
  {
   "cell_type": "code",
   "execution_count": 2,
   "metadata": {},
   "outputs": [],
   "source": [
    "import nltk\n",
    "from nltk.stem import WordNetLemmatizer\n",
    "lemmatizer_en = WordNetLemmatizer()\n",
    "\n",
    "from french_lefff_lemmatizer.french_lefff_lemmatizer import FrenchLefffLemmatizer\n",
    "lemmatizer_fr = FrenchLefffLemmatizer()\n"
   ]
  },
  {
   "cell_type": "code",
   "execution_count": 9,
   "metadata": {},
   "outputs": [
    {
     "name": "stderr",
     "output_type": "stream",
     "text": [
      "[nltk_data] Downloading package averaged_perceptron_tagger to\n",
      "[nltk_data]     C:\\Users\\Shen\\AppData\\Roaming\\nltk_data...\n",
      "[nltk_data]   Unzipping taggers\\averaged_perceptron_tagger.zip.\n"
     ]
    },
    {
     "data": {
      "text/plain": [
       "True"
      ]
     },
     "execution_count": 9,
     "metadata": {},
     "output_type": "execute_result"
    }
   ],
   "source": [
    "nltk.download('wordnet')\n",
    "nltk.download('averaged_perceptron_tagger')"
   ]
  },
  {
   "cell_type": "code",
   "execution_count": 4,
   "metadata": {},
   "outputs": [],
   "source": [
    "def get_wordnet_pos(treebank_tag):\n",
    "    if treebank_tag.startswith('J'):\n",
    "        return wordnet.ADJ\n",
    "    elif treebank_tag.startswith('V'):\n",
    "        return wordnet.VERB\n",
    "    elif treebank_tag.startswith('N'):\n",
    "        return wordnet.NOUN\n",
    "    elif treebank_tag.startswith('R'):\n",
    "        return wordnet.ADV\n",
    "    else:\n",
    "        return None\n",
    "    \n",
    "def get_char_pos(treebank_tag):\n",
    "    if treebank_tag.startswith('J'):\n",
    "        return 'a'\n",
    "    elif treebank_tag.startswith('V'):\n",
    "        return 'v'\n",
    "    elif treebank_tag.startswith('N'):\n",
    "        return 'n'\n",
    "    elif treebank_tag.startswith('R'):\n",
    "        return 'r'\n",
    "    else:\n",
    "        return None"
   ]
  },
  {
   "cell_type": "code",
   "execution_count": 6,
   "metadata": {},
   "outputs": [],
   "source": [
    "import os\n",
    "from nltk.tokenize import word_tokenize\n",
    "from nltk import pos_tag\n",
    "from nltk.stem import SnowballStemmer\n",
    "from nltk.corpus import wordnet\n",
    "\n",
    "def process_folder(folder_path):\n",
    "    \n",
    "    lemma_folder = os.path.join(folder_path, 'lemma')\n",
    "    os.makedirs(lemma_folder, exist_ok=True)\n",
    "\n",
    "    for file_name in os.listdir(folder_path):\n",
    "        if file_name.endswith('.en') or file_name.endswith('.fr'):  \n",
    "            with open(os.path.join(folder_path, file_name), 'r', encoding='utf-8') as file:\n",
    "                text = file.read().lower()  \n",
    "\n",
    "            words = word_tokenize(text)\n",
    "            tagged_words = pos_tag(words)\n",
    "\n",
    "            lemmatized_words = []\n",
    "            for word, pos in tagged_words:\n",
    "                if file_name.endswith('.en'):\n",
    "                    pos = get_wordnet_pos(pos)\n",
    "                    if pos:\n",
    "                        lemma = lemmatizer_en.lemmatize(word, pos)\n",
    "                    else:\n",
    "                        lemma = word\n",
    "                elif file_name.endswith('.fr'):\n",
    "                    pos = get_char_pos(pos)\n",
    "                    if pos:\n",
    "                        lemma = lemmatizer_fr.lemmatize(word, pos)\n",
    "                    else:\n",
    "                        lemma = word\n",
    "                lemmatized_words.append(lemma)\n",
    "\n",
    "            output_file = os.path.join(lemma_folder, f\"{os.path.splitext(file_name)[0]}.lemma{os.path.splitext(file_name)[1]}\")\n",
    "            with open(output_file, 'w', encoding='utf-8') as out_file:\n",
    "                out_file.write(' '.join(lemmatized_words))"
   ]
  },
  {
   "cell_type": "code",
   "execution_count": 7,
   "metadata": {},
   "outputs": [],
   "source": [
    "def process_subfolders(root_folder):\n",
    "    for subfolder in os.listdir(root_folder):\n",
    "        subfolder_path = os.path.join(root_folder, subfolder)\n",
    "        if os.path.isdir(subfolder_path):\n",
    "            process_folder(subfolder_path)"
   ]
  },
  {
   "cell_type": "code",
   "execution_count": 10,
   "metadata": {},
   "outputs": [],
   "source": [
    "process_subfolders('../data/clean')"
   ]
  }
 ],
 "metadata": {
  "kernelspec": {
   "display_name": "TAA",
   "language": "python",
   "name": "python3"
  },
  "language_info": {
   "codemirror_mode": {
    "name": "ipython",
    "version": 3
   },
   "file_extension": ".py",
   "mimetype": "text/x-python",
   "name": "python",
   "nbconvert_exporter": "python",
   "pygments_lexer": "ipython3",
   "version": "3.8.19"
  }
 },
 "nbformat": 4,
 "nbformat_minor": 2
}
