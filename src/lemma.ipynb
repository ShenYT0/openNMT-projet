{
 "cells": [
  {
   "cell_type": "code",
   "execution_count": 2,
   "metadata": {},
   "outputs": [],
   "source": [
    "import nltk\n",
    "from nltk.stem import WordNetLemmatizer\n",
    "lemmatizer_en = WordNetLemmatizer()\n",
    "\n",
    "from french_lefff_lemmatizer.french_lefff_lemmatizer import FrenchLefffLemmatizer\n",
    "lemmatizer_fr = FrenchLefffLemmatizer()\n"
   ]
  },
  {
   "cell_type": "code",
   "execution_count": 9,
   "metadata": {},
   "outputs": [
    {
     "name": "stderr",
     "output_type": "stream",
     "text": [
      "[nltk_data] Downloading package averaged_perceptron_tagger to\n",
      "[nltk_data]     C:\\Users\\Shen\\AppData\\Roaming\\nltk_data...\n",
      "[nltk_data]   Unzipping taggers\\averaged_perceptron_tagger.zip.\n"
     ]
    },
    {
     "data": {
      "text/plain": [
       "True"
      ]
     },
     "execution_count": 9,
     "metadata": {},
     "output_type": "execute_result"
    }
   ],
   "source": [
    "nltk.download('wordnet')\n",
    "nltk.download('averaged_perceptron_tagger')"
   ]
  },
  {
   "cell_type": "code",
   "execution_count": 3,
   "metadata": {},
   "outputs": [],
   "source": [
    "def get_wordnet_pos(treebank_tag):\n",
    "    if treebank_tag.startswith('J'):\n",
    "        return wordnet.ADJ\n",
    "    elif treebank_tag.startswith('V'):\n",
    "        return wordnet.VERB\n",
    "    elif treebank_tag.startswith('N'):\n",
    "        return wordnet.NOUN\n",
    "    elif treebank_tag.startswith('R'):\n",
    "        return wordnet.ADV\n",
    "    else:\n",
    "        return None\n",
    "    \n",
    "def get_char_pos(treebank_tag):\n",
    "    if treebank_tag.startswith('J'):\n",
    "        return 'a'\n",
    "    elif treebank_tag.startswith('V'):\n",
    "        return 'v'\n",
    "    elif treebank_tag.startswith('N'):\n",
    "        return 'n'\n",
    "    elif treebank_tag.startswith('R'):\n",
    "        return 'r'\n",
    "    else:\n",
    "        return None"
   ]
  },
  {
   "cell_type": "code",
   "execution_count": 4,
   "metadata": {},
   "outputs": [],
   "source": [
    "\n",
    "import spacy\n",
    "\n",
    "nlp_en = spacy.load('en_core_web_sm')\n",
    "\n",
    "nlp_fr = spacy.load('fr_core_news_md')"
   ]
  },
  {
   "cell_type": "code",
   "execution_count": 8,
   "metadata": {},
   "outputs": [],
   "source": [
    "import os\n",
    "from nltk.tokenize import word_tokenize\n",
    "from nltk import pos_tag\n",
    "from nltk.stem import SnowballStemmer\n",
    "from nltk.corpus import wordnet\n",
    "\n",
    "\n",
    "def process_folder(folder_path):\n",
    "    lemma_folder = os.path.join(folder_path, 'spacy_lemma')\n",
    "    os.makedirs(lemma_folder, exist_ok=True)\n",
    "\n",
    "    for file_name in os.listdir(folder_path):\n",
    "        if file_name.endswith('.en') or file_name.endswith('.fr'):\n",
    "            print(f\"Processing {file_name}\")\n",
    "            with open(os.path.join(folder_path, file_name), 'r', encoding='utf-8') as file:\n",
    "                output_file = os.path.join(lemma_folder, f\"{os.path.splitext(file_name)[0]}.lemma{os.path.splitext(file_name)[1]}\")\n",
    "                with open(output_file, 'w', encoding='utf-8') as out_file:\n",
    "                    for line in file:\n",
    "                        line = line.lower().strip()\n",
    "                        if file_name.endswith('.en'):\n",
    "                            doc = nlp_en(line)\n",
    "                        elif file_name.endswith('.fr'):\n",
    "                            doc = nlp_fr(line)\n",
    "\n",
    "                        lemmatized_words = []\n",
    "                        for token in doc:\n",
    "                            lemmatized_words.append(token.lemma_)\n",
    "                        # words = word_tokenize(line)\n",
    "                        # tagged_words = pos_tag(words)\n",
    "\n",
    "                        \n",
    "                        \n",
    "                        # lemmatized_words = []\n",
    "                        # for word, pos in tagged_words:\n",
    "                        #     if file_name.endswith('.en'):\n",
    "                        #         pos = get_wordnet_pos(pos)\n",
    "                        #         if pos:\n",
    "                        #             lemma = lemmatizer_en.lemmatize(word, pos)\n",
    "                        #         else:\n",
    "                        #             lemma = word\n",
    "                        #     elif file_name.endswith('.fr'):\n",
    "                        #         pos = get_char_pos(pos)\n",
    "                        #         if pos:\n",
    "                        #             lemma = lemmatizer_fr.lemmatize(word, pos)\n",
    "                        #         else:\n",
    "                        #             lemma = word\n",
    "                        #     lemmatized_words.append(lemma)\n",
    "                        \n",
    "                        out_file.write(' '.join(lemmatized_words) + '\\n')"
   ]
  },
  {
   "cell_type": "code",
   "execution_count": 9,
   "metadata": {},
   "outputs": [],
   "source": [
    "def process_subfolders(root_folder):\n",
    "    for subfolder in os.listdir(root_folder):\n",
    "        subfolder_path = os.path.join(root_folder, subfolder)\n",
    "        if os.path.isdir(subfolder_path):\n",
    "            process_folder(subfolder_path)\n",
    "            print(f\"Processed {subfolder_path}\")"
   ]
  },
  {
   "cell_type": "code",
   "execution_count": 10,
   "metadata": {},
   "outputs": [
    {
     "name": "stdout",
     "output_type": "stream",
     "text": [
      "Processing Emea_test_500.tok.true.clean.en\n",
      "Processing Emea_test_500.tok.true.clean.fr\n",
      "Processing Emea_train_10k.tok.true.clean.en\n",
      "Processing Emea_train_10k.tok.true.clean.fr\n",
      "Processed ../data/clean\\Emea\n",
      "Processing Europarl_dev_3750.tok.true.clean.en\n",
      "Processing Europarl_dev_3750.tok.true.clean.fr\n",
      "Processing Europarl_test_500.tok.true.clean.en\n",
      "Processing Europarl_test_500.tok.true.clean.fr\n",
      "Processing Europarl_train_100k.tok.true.clean.en\n"
     ]
    }
   ],
   "source": [
    "process_subfolders('../data/clean')"
   ]
  }
 ],
 "metadata": {
  "kernelspec": {
   "display_name": "TAA",
   "language": "python",
   "name": "python3"
  },
  "language_info": {
   "codemirror_mode": {
    "name": "ipython",
    "version": 3
   },
   "file_extension": ".py",
   "mimetype": "text/x-python",
   "name": "python",
   "nbconvert_exporter": "python",
   "pygments_lexer": "ipython3",
   "version": "3.8.19"
  }
 },
 "nbformat": 4,
 "nbformat_minor": 2
}
