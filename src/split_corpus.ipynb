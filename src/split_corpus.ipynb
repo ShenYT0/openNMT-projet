{
 "cells": [
  {
   "cell_type": "code",
   "execution_count": 17,
   "metadata": {},
   "outputs": [],
   "source": [
    "def read_lines(file_path):\n",
    "    with open(file_path, 'r', encoding='utf-8') as f:\n",
    "        lines = f.readlines()\n",
    "    return [line.strip() for line in lines]\n",
    "\n",
    "def write_lines(file_path, lines):\n",
    "    with open(file_path, 'w', encoding='utf-8') as f:\n",
    "        f.write('\\n'.join(lines))\n"
   ]
  },
  {
   "cell_type": "code",
   "execution_count": 18,
   "metadata": {},
   "outputs": [],
   "source": [
    "# Train\n",
    "\n",
    "# Extract the first 100,000 sentences from the Europarl corpus for training\n",
    "europarl_train_100k_en = read_lines('../data/raw/Europarl.en-fr.en')[:100000]\n",
    "europarl_train_100k_fr = read_lines('../data/raw/Europarl.en-fr.fr')[:100000]\n",
    "\n",
    "write_lines('../data/clean/Europarl_train_100k.en', europarl_train_100k_en)\n",
    "write_lines('../data/clean//Europarl_train_100k.fr', europarl_train_100k_fr)\n",
    "\n",
    "# Extract the first 10,000 sentences from the Emea corpus for training\n",
    "emea_train_10k_en = read_lines('../data/raw/Emea.en-fr.en')[:10000]\n",
    "emea_train_10k_fr = read_lines('../data/raw/Emea.en-fr.fr')[:10000]\n",
    "\n",
    "write_lines('../data/clean/Emea_train_10k.en', emea_train_10k_en)\n",
    "write_lines('../data/clean/Emea_train_10k.fr', emea_train_10k_fr)\n"
   ]
  },
  {
   "cell_type": "code",
   "execution_count": 19,
   "metadata": {},
   "outputs": [],
   "source": [
    "# Dev\n",
    "\n",
    "# Extract 3,750 sentences starting from the 100,001st sentence in the Europarl corpus for development\n",
    "europarl_dev_3750_en = read_lines('../data/raw/Europarl.en-fr.en')[100000:103750]\n",
    "europarl_dev_3750_fr = read_lines('../data/raw/Europarl.en-fr.fr')[100000:103750]\n",
    "\n",
    "# Save the Europarl development set\n",
    "write_lines('../data/clean/Europarl_dev_3750.en', europarl_dev_3750_en)\n",
    "write_lines('../data/clean/Europarl_dev_3750.fr', europarl_dev_3750_fr)\n"
   ]
  },
  {
   "cell_type": "code",
   "execution_count": 20,
   "metadata": {},
   "outputs": [],
   "source": [
    "# Test\n",
    "from sklearn.model_selection import train_test_split\n",
    "\n",
    "europarl_en = read_lines('../data/raw/Europarl.en-fr.en')\n",
    "europarl_fr = read_lines('../data/raw/Europarl.en-fr.fr')\n",
    "emea_en = read_lines('../data/raw/Emea.en-fr.en')\n",
    "emea_fr = read_lines('../data/raw/Emea.en-fr.fr')\n",
    "\n",
    "assert len(europarl_en) == len(europarl_fr)\n",
    "assert len(emea_en) == len(emea_fr)\n",
    "\n",
    "# Randomly select 500 sentence pairs from the Europarl corpus for testing\n",
    "_, europarl_en_test, _, europarl_fr_test = train_test_split(\n",
    "    europarl_en, europarl_fr, test_size=500, random_state=42)\n",
    "\n",
    "# Randomly select 500 sentence pairs from the Emea corpus for testing\n",
    "_, emea_en_test, _, emea_fr_test = train_test_split(\n",
    "    emea_en, emea_fr, test_size=500, random_state=42)\n",
    "\n",
    "write_lines('../data/clean/Europarl_test_500.en', europarl_en_test)\n",
    "write_lines('../data/clean/Europarl_test_500.fr', europarl_fr_test)\n",
    "\n",
    "write_lines('../data/clean/Emea_test_500.en', emea_en_test)\n",
    "write_lines('../data/clean/Emea_test_500.fr', emea_fr_test)\n"
   ]
  }
 ],
 "metadata": {
  "kernelspec": {
   "display_name": "OpenNMT",
   "language": "python",
   "name": "python3"
  },
  "language_info": {
   "codemirror_mode": {
    "name": "ipython",
    "version": 3
   },
   "file_extension": ".py",
   "mimetype": "text/x-python",
   "name": "python",
   "nbconvert_exporter": "python",
   "pygments_lexer": "ipython3",
   "version": "3.8.19"
  }
 },
 "nbformat": 4,
 "nbformat_minor": 2
}
